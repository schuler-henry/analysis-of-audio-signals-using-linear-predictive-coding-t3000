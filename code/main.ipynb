{
 "cells": [
  {
   "cell_type": "code",
   "execution_count": 1,
   "metadata": {},
   "outputs": [
    {
     "name": "stderr",
     "output_type": "stream",
     "text": [
      "2023-03-12 14:10:46.930681: I tensorflow/core/platform/cpu_feature_guard.cc:193] This TensorFlow binary is optimized with oneAPI Deep Neural Network Library (oneDNN) to use the following CPU instructions in performance-critical operations:  AVX2 FMA\n",
      "To enable them in other operations, rebuild TensorFlow with the appropriate compiler flags.\n",
      "2023-03-12 14:10:47.324874: W tensorflow/compiler/xla/stream_executor/platform/default/dso_loader.cc:64] Could not load dynamic library 'libcudart.so.11.0'; dlerror: libcudart.so.11.0: cannot open shared object file: No such file or directory\n",
      "2023-03-12 14:10:47.324925: I tensorflow/compiler/xla/stream_executor/cuda/cudart_stub.cc:29] Ignore above cudart dlerror if you do not have a GPU set up on your machine.\n",
      "2023-03-12 14:10:48.610881: W tensorflow/compiler/xla/stream_executor/platform/default/dso_loader.cc:64] Could not load dynamic library 'libnvinfer.so.7'; dlerror: libnvinfer.so.7: cannot open shared object file: No such file or directory\n",
      "2023-03-12 14:10:48.611106: W tensorflow/compiler/xla/stream_executor/platform/default/dso_loader.cc:64] Could not load dynamic library 'libnvinfer_plugin.so.7'; dlerror: libnvinfer_plugin.so.7: cannot open shared object file: No such file or directory\n",
      "2023-03-12 14:10:48.611114: W tensorflow/compiler/tf2tensorrt/utils/py_utils.cc:38] TF-TRT Warning: Cannot dlopen some TensorRT libraries. If you would like to use Nvidia GPU with TensorRT, please make sure the missing libraries mentioned above are installed properly.\n"
     ]
    }
   ],
   "source": [
    "%load_ext autoreload\n",
    "%autoreload 2\n",
    "from FeatureExtractor.FeatureExtractor import Feature\n",
    "from FeatureEvaluator.FeatureEvaluator import FeatureEvaluator\n",
    "\n",
    "import numpy as np"
   ]
  },
  {
   "cell_type": "code",
   "execution_count": 2,
   "metadata": {},
   "outputs": [],
   "source": [
    "evaluator = FeatureEvaluator(\"/home/henry/Downloads/archive/50_speakers_audio_data\")"
   ]
  },
  {
   "cell_type": "code",
   "execution_count": 16,
   "metadata": {},
   "outputs": [
    {
     "name": "stdout",
     "output_type": "stream",
     "text": [
      "Create dataset process started.\n",
      "500 samples per frame, 100 samples overlap, 30000 frames per speaker.\n",
      "\n",
      "Creating dataset for speaker 21:\n",
      "Extracted features for 31037 frames from 15 files.\n",
      "Concatenating frames to chunks of 30 frames ...\n",
      "Created 1035 chunks, using first 1000 chunks.\n",
      "\n",
      "Creating dataset for speaker 22:\n",
      "Extracted features for 30077 frames from 12 files.\n",
      "Concatenating frames to chunks of 30 frames ...\n",
      "Created 1003 chunks, using first 1000 chunks.\n",
      "\n",
      "Creating dataset for speaker 23:\n",
      "Extracted features for 32181 frames from 14 files.\n",
      "Concatenating frames to chunks of 30 frames ...\n",
      "Created 1073 chunks, using first 1000 chunks.\n",
      "\n",
      "Creating dataset for speaker 24:\n",
      "Extracted features for 30697 frames from 14 files.\n",
      "Concatenating frames to chunks of 30 frames ...\n",
      "Created 1024 chunks, using first 1000 chunks.\n",
      "\n",
      "Creating dataset for speaker 25:\n",
      "Extracted features for 31827 frames from 13 files.\n",
      "Concatenating frames to chunks of 30 frames ...\n",
      "Created 1061 chunks, using first 1000 chunks.\n",
      "\n",
      "Creating dataset for speaker 26:\n",
      "Extracted features for 31245 frames from 15 files.\n",
      "Concatenating frames to chunks of 30 frames ...\n",
      "Created 1042 chunks, using first 1000 chunks.\n",
      "\n",
      "Creating dataset for speaker 27:\n",
      "Extracted features for 32260 frames from 14 files.\n",
      "Concatenating frames to chunks of 30 frames ...\n",
      "Created 1076 chunks, using first 1000 chunks.\n",
      "\n",
      "Creating dataset for speaker 28:\n",
      "Extracted features for 31150 frames from 16 files.\n",
      "Concatenating frames to chunks of 30 frames ...\n",
      "Created 1039 chunks, using first 1000 chunks.\n",
      "\n",
      "Creating dataset for speaker 29:\n",
      "Extracted features for 33064 frames from 10 files.\n",
      "Concatenating frames to chunks of 30 frames ...\n",
      "Created 1103 chunks, using first 1000 chunks.\n",
      "\n",
      "Creating dataset for speaker 30:\n",
      "Extracted features for 31038 frames from 12 files.\n",
      "Concatenating frames to chunks of 30 frames ...\n",
      "Created 1035 chunks, using first 1000 chunks.\n",
      "\n",
      "Dataset created.\n"
     ]
    }
   ],
   "source": [
    "X, y = evaluator.create_dataset([21, 22, 23, 24, 25, 26, 27, 28, 29, 30], [[Feature.LPC, 12, []]], 30, 1000, 500, 100, np.hanning, start_at_file_index=0)\n",
    "evaluator.set_model_dataset(X, y)"
   ]
  },
  {
   "cell_type": "code",
   "execution_count": 33,
   "metadata": {},
   "outputs": [
    {
     "name": "stdout",
     "output_type": "stream",
     "text": [
      "Create dataset process started.\n",
      "500 samples per frame, 100 samples overlap, 30000 frames per speaker.\n",
      "\n",
      "Creating dataset for speaker 21:\n",
      "Extracted features for 30731 frames from 15 files.\n",
      "Concatenating frames to chunks of 30 frames ...\n",
      "Created 1025 chunks, using first 1000 chunks.\n",
      "\n",
      "Creating dataset for speaker 22:\n",
      "Extracted features for 31079 frames from 13 files.\n",
      "Concatenating frames to chunks of 30 frames ...\n",
      "Created 1036 chunks, using first 1000 chunks.\n",
      "\n",
      "Creating dataset for speaker 23:\n",
      "Extracted features for 31439 frames from 14 files.\n",
      "Concatenating frames to chunks of 30 frames ...\n",
      "Created 1048 chunks, using first 1000 chunks.\n",
      "\n",
      "Creating dataset for speaker 24:\n",
      "Extracted features for 30888 frames from 14 files.\n",
      "Concatenating frames to chunks of 30 frames ...\n",
      "Created 1030 chunks, using first 1000 chunks.\n",
      "\n",
      "Creating dataset for speaker 25:\n",
      "Extracted features for 31125 frames from 13 files.\n",
      "Concatenating frames to chunks of 30 frames ...\n",
      "Created 1038 chunks, using first 1000 chunks.\n",
      "\n",
      "Creating dataset for speaker 26:\n",
      "Extracted features for 31528 frames from 15 files.\n",
      "Concatenating frames to chunks of 30 frames ...\n",
      "Created 1051 chunks, using first 1000 chunks.\n",
      "\n",
      "Creating dataset for speaker 27:\n",
      "Extracted features for 30714 frames from 13 files.\n",
      "Concatenating frames to chunks of 30 frames ...\n",
      "Created 1024 chunks, using first 1000 chunks.\n",
      "\n",
      "Creating dataset for speaker 28:\n",
      "Extracted features for 30472 frames from 16 files.\n",
      "Concatenating frames to chunks of 30 frames ...\n",
      "Created 1016 chunks, using first 1000 chunks.\n",
      "\n",
      "Creating dataset for speaker 29:\n",
      "Extracted features for 33070 frames from 10 files.\n",
      "Concatenating frames to chunks of 30 frames ...\n",
      "Created 1103 chunks, using first 1000 chunks.\n",
      "\n",
      "Creating dataset for speaker 30:\n",
      "Extracted features for 30543 frames from 12 files.\n",
      "Concatenating frames to chunks of 30 frames ...\n",
      "Created 1019 chunks, using first 1000 chunks.\n",
      "\n",
      "Dataset created.\n"
     ]
    }
   ],
   "source": [
    "X, y = evaluator.create_dataset([21, 22, 23, 24, 25, 26, 27, 28, 29, 30], [[Feature.LPC, 12, []]], 30, 1000, 500, 100, np.hanning, start_at_file_index=15)\n",
    "evaluator.set_evaluation_dataset(X, y)"
   ]
  },
  {
   "cell_type": "code",
   "execution_count": 17,
   "metadata": {},
   "outputs": [],
   "source": [
    "evaluator.create_nn_model(epochs=1000)"
   ]
  },
  {
   "cell_type": "code",
   "execution_count": 35,
   "metadata": {},
   "outputs": [
    {
     "name": "stdout",
     "output_type": "stream",
     "text": [
      "Model loss: 5.472782611846924\n",
      "Model accuracy: 0.7053999900817871\n"
     ]
    }
   ],
   "source": [
    "evaluator.evaluate_model()"
   ]
  },
  {
   "cell_type": "code",
   "execution_count": 46,
   "metadata": {},
   "outputs": [
    {
     "name": "stdout",
     "output_type": "stream",
     "text": [
      "32/32 [==============================] - 0s 1ms/step\n",
      "ID 22: 39\n",
      "ID 26: 40\n",
      "ID 27: 3\n",
      "ID 28: 83\n",
      "ID 29: 15\n",
      "ID 30: 820\n"
     ]
    }
   ],
   "source": [
    "# X, y = evaluator.create_dataset([20], [[Feature.LPC, 12, []]], 30, 1000, 500, 100, np.hanning, start_at_file_index=15)\n",
    "X, y = evaluator.get_evaluation_dataset()\n",
    "\n",
    "evaluator.predict(np.asarray(X[9000:10000]))"
   ]
  }
 ],
 "metadata": {
  "kernelspec": {
   "display_name": "Python 3",
   "language": "python",
   "name": "python3"
  },
  "language_info": {
   "codemirror_mode": {
    "name": "ipython",
    "version": 3
   },
   "file_extension": ".py",
   "mimetype": "text/x-python",
   "name": "python",
   "nbconvert_exporter": "python",
   "pygments_lexer": "ipython3",
   "version": "3.10.6 (main, Nov 14 2022, 16:10:14) [GCC 11.3.0]"
  },
  "orig_nbformat": 4,
  "vscode": {
   "interpreter": {
    "hash": "916dbcbb3f70747c44a77c7bcd40155683ae19c65e1c03b4aa3499c5328201f1"
   }
  }
 },
 "nbformat": 4,
 "nbformat_minor": 2
}
